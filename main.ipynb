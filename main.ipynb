{
 "cells": [
  {
   "cell_type": "markdown",
   "id": "3e59f47c",
   "metadata": {},
   "source": [
    "# COSC522 Final Project - Catifier\n",
    "\n",
    "### Team 3: Purnachandra Anirudh Gajjala, Gabriel Abeyie, Cameron Adkins"
   ]
  },
 "metadata": {
  "kernelspec": {
   "display_name": "Python 3.10 (ipython-ml)",
   "language": "python",
   "name": "python3-ml"
  },
  "language_info": {
   "codemirror_mode": {
    "name": "ipython",
    "version": 3
   },
   "file_extension": ".py",
   "mimetype": "text/x-python",
   "name": "python",
   "nbconvert_exporter": "python",
   "pygments_lexer": "ipython3",
   "version": "3.10.4"
  }
 },
 "nbformat": 4,
 "nbformat_minor": 5
}
